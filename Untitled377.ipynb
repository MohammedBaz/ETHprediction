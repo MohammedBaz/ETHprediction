{
  "nbformat": 4,
  "nbformat_minor": 0,
  "metadata": {
    "colab": {
      "name": "Untitled377.ipynb",
      "provenance": [],
      "authorship_tag": "ABX9TyPFY2C78dZvDtG7S6R7nDzb",
      "include_colab_link": true
    },
    "kernelspec": {
      "name": "python3",
      "display_name": "Python 3"
    },
    "language_info": {
      "name": "python"
    }
  },
  "cells": [
    {
      "cell_type": "markdown",
      "metadata": {
        "id": "view-in-github",
        "colab_type": "text"
      },
      "source": [
        "<a href=\"https://colab.research.google.com/github/MohammedBaz/ETHprediction/blob/main/Untitled377.ipynb\" target=\"_parent\"><img src=\"https://colab.research.google.com/assets/colab-badge.svg\" alt=\"Open In Colab\"/></a>"
      ]
    },
    {
      "cell_type": "code",
      "execution_count": null,
      "metadata": {
        "colab": {
          "base_uri": "https://localhost:8080/",
          "height": 153
        },
        "id": "vjFNwORpubm6",
        "outputId": "00f915f0-07fe-4f1b-a2cf-fa2104dc96f5"
      },
      "outputs": [
        {
          "output_type": "error",
          "ename": "IndentationError",
          "evalue": "ignored",
          "traceback": [
            "\u001b[0;36m  File \u001b[0;32m\"<ipython-input-1-c9be79efaabc>\"\u001b[0;36m, line \u001b[0;32m2\u001b[0m\n\u001b[0;31m    ethereumetl export_blocks_and_transactions --start-block 0 --end-block 500000 --blocks-output blocks.csv --transactions-output transactions.csv --provider-uri \"https://mainnet.infura.io/v3/b8158fa7112647de866c2bfba4a572a7\"\u001b[0m\n\u001b[0m    ^\u001b[0m\n\u001b[0;31mIndentationError\u001b[0m\u001b[0;31m:\u001b[0m unexpected indent\n"
          ]
        }
      ],
      "source": [
        "! pip3 install ethereum-etl\n",
        " ethereumetl export_blocks_and_transactions --start-block 0 --end-block 500000 \\\n",
        "--blocks-output blocks.csv --transactions-output transactions.csv \\\n",
        "--provider-uri \"https://mainnet.infura.io/v3/b8158fa7112647de866c2bfba4a572a7\""
      ]
    }
  ]
}